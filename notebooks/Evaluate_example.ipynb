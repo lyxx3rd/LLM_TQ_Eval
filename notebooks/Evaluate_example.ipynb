{
 "cells": [
  {
   "cell_type": "code",
   "execution_count": null,
   "id": "c9543ab6",
   "metadata": {},
   "outputs": [
    {
     "name": "stdout",
     "output_type": "stream",
     "text": [
      "我是来自阿里云的语言模型，我叫通义千问。你可以这样直接呼唤我千问或者为我起一个专属的名字。\n"
     ]
    }
   ],
   "source": [
    "from openai import OpenAI\n",
    "import requests\n",
    "import json\n",
    "\n",
    "## 调用request进行评估的def\n",
    "url = \"http://localhost:4399/evaluate\"  # 如果是在不同机器上，替换为服务器IP\n",
    "def request_evaluate(query, content):\n",
    "    data = {\n",
    "        \"query\": query,\n",
    "        \"content\": content\n",
    "    }\n",
    "\n",
    "    headers = {\n",
    "        \"Content-Type\": \"application/json\"\n",
    "    }\n",
    "\n",
    "    response = requests.post(url, data=json.dumps(data), headers=headers)\n",
    "    try:\n",
    "        resoning = response.json()['reasoning']\n",
    "        ans = response.json()['ans']\n",
    "        score = response.json()['score']\n",
    "    except:\n",
    "        print(response.text)\n",
    "\n",
    "    return(resoning, ans, score)\n",
    "\n",
    "\n",
    "## 调用qwen生成内容的def\n",
    "def chat_qwen(content, system_content = \"你是一个有用的助手!\", model_name = \"qwen2.5-14b-instruct\"):\n",
    "    #print(model_name)\n",
    "    client = OpenAI(\n",
    "    api_key=\"此处添加Qwen的API Key\", \n",
    "    base_url=\"https://dashscope.aliyuncs.com/compatible-mode/v1\",\n",
    "    )\n",
    "    #time.sleep(1)\n",
    "    completion = client.chat.completions.create(\n",
    "        model=model_name, # 此处以qwen-plus为例，可按需更换模型名称。模型列表：https://help.aliyun.com/zh/model-studio/getting-started/models\n",
    "        messages=[\n",
    "            {'role': 'system', 'content': system_content},\n",
    "            {'role': 'user', 'content': content}],\n",
    "    )\n",
    "    \n",
    "    content = completion.choices[0].message.content\n",
    "    return content\n",
    "\n",
    "ans = chat_qwen(\"你叫什么名字\")\n",
    "print(ans)"
   ]
  },
  {
   "cell_type": "code",
   "execution_count": null,
   "id": "ee52ef75",
   "metadata": {},
   "outputs": [
    {
     "name": "stdout",
     "output_type": "stream",
     "text": [
      "测试数据集已加载, 长度为: 600\n",
      "展示评估集中第0项数据:\n"
     ]
    },
    {
     "data": {
      "text/plain": [
       "{'query': \"分析'故意延误投递邮件罪'和'伪证罪'在刑法中的处罚标准及其背后的法律逻辑。\",\n",
       " 'resource': 'crimina_Law_chat',\n",
       " 'datasets_id': 2619,\n",
       " 'datasets_ans': \"根据提供的文本内容，可以分析如下：\\n\\n1. **故意延误投递邮件罪**：该罪名针对的是邮政工作人员因严重不负责任而故意延误投递邮件，导致公共财产、国家和人民利益遭受重大损失的行为。其处罚标准为二年以下有期徒刑或者拘役。这反映出法律对邮政服务质量和效率的高度重视，以及对因个人行为导致社会公共利益受损的严惩态度。\\n\\n2. **伪证罪**：该罪名涉及在刑事诉讼过程中，证人、鉴定人、记录人、翻译人等对与案件有重要关系的情节故意作虚假证明、鉴定、记录、翻译，意图陷害他人或隐匿罪证的行为。其基本处罚标准为三年以下有期徒刑或者拘役；若情节严重，则处以三年以上七年以下有期徒刑。这表明法律对司法公正性的维护极为严格，对于任何破坏司法公正的行为都会给予严厉的惩罚。\\n\\n**法律逻辑**：\\n- **维护公共利益和社会秩序**：'故意延误投递邮件罪'的设定旨在保护公共财产和国家、人民的利益不受损害，确保邮政服务的正常运行。\\n- **保障司法公正**：'伪证罪'的设立是为了保证司法程序的公平和正义，防止因虚假证据导致的误判，维护法律的权威性和公信力。\\n\\n这两种罪行虽然发生在不同的领域，但都体现了法律对公共利益和正义的重视，以及对违法行为的严肃处理。\"}"
      ]
     },
     "execution_count": 2,
     "metadata": {},
     "output_type": "execute_result"
    }
   ],
   "source": [
    "with open('../data/evaluate_data/random_sampled_query_evaluation_600.json', 'r') as f:\n",
    "    eval_data = json.load(f)\n",
    "print(\"测试数据集已加载, 长度为:\",len(eval_data))\n",
    "i=0\n",
    "print(f\"展示评估集中第{i}项数据:\")\n",
    "eval_data[0]"
   ]
  },
  {
   "cell_type": "code",
   "execution_count": 3,
   "id": "23346eb6",
   "metadata": {},
   "outputs": [
    {
     "name": "stdout",
     "output_type": "stream",
     "text": [
      "Query: 分析'故意延误投递邮件罪'和'伪证罪'在刑法中的处罚标准及其背后的法律逻辑。\n",
      "Evaluate_model_ans: \"故意延误投递邮件罪\"和\"伪证罪\"是两种不同的犯罪行为，在中国刑法中有明确的规定，它们的处罚标准及背后所体现的法律逻辑也有所不同。\n",
      "\n",
      "1. **故意延误投递邮件罪**\n",
      "\n",
      "   - 定义：根据《中华人民共和国邮政法》第四十二条第二款规定，邮政企业应当依法建立并执行邮件收寄、分拣、运输、投递制度，确保邮件安全、及时地送达。如果邮政工作人员故意拖延或者拒绝投递邮件，则构成此罪。\n",
      "   \n",
      "   - 处罚标准：根据《中华人民共和国刑法》第253条的规定，犯此罪的，处二年以下有期徒刑或者拘役，并处或者单处罚金。\n",
      "   \n",
      "   - 法律逻辑：该罪名设立的目的是为了保护公民通信自由与秘密不受侵犯，保障邮政服务的正常运行，维护社会秩序和公共利益。\n",
      "\n",
      "2. **伪证罪**\n",
      "\n",
      "   - 定义：根据《中华人民共和国刑法》第305条规定，伪证罪是指在刑事诉讼中，证人、鉴定人、记录人、翻译人对与案件有重要关系的情节，故意作虚假证明、鉴定、记录、翻译，意图陷害他人或隐匿罪证的行为。\n",
      "   \n",
      "   - 处罚标准：犯此罪的，处三年以下有期徒刑或者拘役；情节严重的，处三年以上七年以下有期徒刑。\n",
      "   \n",
      "   - 法律逻辑：设立伪证罪旨在确保司法公正，维护法律尊严和社会正义，防止无辜者被冤枉，同时惩罚那些试图通过伪造证据来逃避法律责任的人。\n",
      "\n",
      "两者的共同点在于都是为了维护社会的公平正义，前者侧重于保护公民的基本权利（通信自由），后者则直接服务于司法程序的正当性。不同之处在于，“故意延误投递邮件罪”主要涉及公共服务领域内的职业道德和效率问题；而“伪证罪”则触及到更为根本性的法律原则——诚实守信，直接影响到司法判决的准确性和公正性。\n",
      "------------------------------------------------------------\n",
      "Resoning(Comment): 内容紧扣题目要求，详细阐述了两种罪名的定义、处罚标准及法律逻辑，专业知识准确，回答有一定深度且联想有一定广度，文本逻辑性强。结构清晰，条理分明，层次感较好。语言表达流畅，语法正确，风格适配。不足之处在于对“故意延误投递邮件罪”的处罚标准引用法条错误，且未提及“伪证罪”在民事诉讼中的适用情况。\n",
      "Answer(Conclusion): 该回复尝试深度回复但是存在一定程度的缺漏或问题.\n",
      "Score: 82.01727271080017\n"
     ]
    }
   ],
   "source": [
    "query = eval_data[i]['query']\n",
    "content = chat_qwen(query)\n",
    "resoning, ans, score = request_evaluate(query,content)\n",
    "print(\"Query:\",eval_data[0]['query'])\n",
    "print(\"Evaluate_model_ans:\",content)\n",
    "print(\"-\"*60)\n",
    "print(\"Resoning(Comment):\",resoning)\n",
    "print(\"Answer(Conclusion):\",ans)\n",
    "print(\"Score:\",score)"
   ]
  }
 ],
 "metadata": {
  "kernelspec": {
   "display_name": "lyh",
   "language": "python",
   "name": "python3"
  },
  "language_info": {
   "codemirror_mode": {
    "name": "ipython",
    "version": 3
   },
   "file_extension": ".py",
   "mimetype": "text/x-python",
   "name": "python",
   "nbconvert_exporter": "python",
   "pygments_lexer": "ipython3",
   "version": "3.12.9"
  }
 },
 "nbformat": 4,
 "nbformat_minor": 5
}
